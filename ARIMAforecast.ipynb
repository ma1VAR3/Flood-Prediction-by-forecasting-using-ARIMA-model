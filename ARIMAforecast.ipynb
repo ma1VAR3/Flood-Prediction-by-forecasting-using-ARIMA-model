{
 "cells": [
  {
   "cell_type": "markdown",
   "metadata": {},
   "source": [
    "# Flood Prediction by Time Series Analysis using ARIMA Model"
   ]
  },
  {
   "cell_type": "markdown",
   "metadata": {},
   "source": [
    "<h3>Disclaimer</h3>"
   ]
  },
  {
   "cell_type": "markdown",
   "metadata": {},
   "source": [
    "<i>So this method is rather an unconventional one. The problem given can be solved by using Logistic Regression and SVM models or alternatively by a Neural Network if the features are engineered properly.\n",
    "As we were asked to be as innovative as possible, I decided to go for Time Series Analysis using ARIMA model which is a quite complicated statistical model. \n",
    "As of now I don't understand the model completely and I'm studying it but i got help from the internet to understand and get a model up and running. \n",
    "Note that the code below does not generate the best model possible for the problem but with proper use of mathematical concepts and hyperparameter tuning this model could perform better than any other model possible.\n",
    "    </i>"
   ]
  },
  {
   "cell_type": "markdown",
   "metadata": {},
   "source": [
    "<h3>Model Summary</h3>"
   ]
  },
  {
   "cell_type": "markdown",
   "metadata": {},
   "source": [
    "<p>The main idea is to forecast the rainfall data for the next 10 years.<br>\n",
    "    Then we calculate the standard deviation in the prediction data.<br>\n",
    "    1. If the amount of rainfall entered by the user is more than (mean + std deviation) and (prediction + 0.7*std deviation) then we output 2 i.e: Flood is likely to occur<br>\n",
    "    2. If the amount of rainfall entered by the user is more than (mean + std deviation) or (prediction + std deviation) then we output 1 i.e: There are chances of flood to occur.<br>\n",
    "    3. Else we ouput 0 i.e: Flood is unlikely to occur.<br><br>\n",
    "    <i>Note: I'm not using the Flood Dates sheet provided as I feel that the occurence of flood depends lot more on environmental and geographical factors than the history of flood occurences. This model cannot be generalized to all the areas. Some regions might get flooded on receiving 150 cm of rainfall while for some receiving 200-250 cm of rainfall is normal and does not cause any devastation.</i><br>\n",
    "</p>"
   ]
  },
  {
   "cell_type": "markdown",
   "metadata": {},
   "source": [
    "<h4>Importing the required Libraries</h4>"
   ]
  },
  {
   "cell_type": "code",
   "execution_count": 38,
   "metadata": {},
   "outputs": [],
   "source": [
    "import numpy as np\n",
    "import pandas as pd\n",
    "import seaborn as sns\n",
    "import matplotlib.pyplot as plt\n",
    "from pmdarima import auto_arima\n",
    "from statsmodels.tsa.statespace.sarimax import SARIMAX "
   ]
  },
  {
   "cell_type": "markdown",
   "metadata": {},
   "source": [
    "<h4>Loading Data and Modeling</h4>"
   ]
  },
  {
   "cell_type": "code",
   "execution_count": 39,
   "metadata": {},
   "outputs": [
    {
     "data": {
      "text/plain": [
       "Index(['YEAR', 'JAN', 'FEB', 'MAR', 'APR', 'MAY', 'JUN', 'JUL', 'AUG', 'SEP',\n",
       "       'OCT', 'NOV', 'DEC', 'TOTAL'],\n",
       "      dtype='object')"
      ]
     },
     "execution_count": 39,
     "metadata": {},
     "output_type": "execute_result"
    }
   ],
   "source": [
    "rainfall = pd.read_excel('rainfall.xlsx')\n",
    "rainfall.columns\n"
   ]
  },
  {
   "cell_type": "markdown",
   "metadata": {},
   "source": [
    "<i>Now we take the 'OCT' column to build and test our model.</i>"
   ]
  },
  {
   "cell_type": "code",
   "execution_count": 40,
   "metadata": {},
   "outputs": [
    {
     "name": "stdout",
     "output_type": "stream",
     "text": [
      "Performing stepwise search to minimize aic\n",
      "Fit ARIMA(1,0,1)x(0,1,1,12) [intercept=True]; AIC=562.449, BIC=571.255, Time=0.263 seconds\n",
      "Fit ARIMA(0,0,0)x(0,1,0,12) [intercept=True]; AIC=579.910, BIC=583.433, Time=0.016 seconds\n",
      "Fit ARIMA(1,0,0)x(1,1,0,12) [intercept=True]; AIC=560.880, BIC=567.925, Time=0.234 seconds\n",
      "Fit ARIMA(0,0,1)x(0,1,1,12) [intercept=True]; AIC=558.895, BIC=565.940, Time=0.250 seconds\n",
      "Near non-invertible roots for order (0, 0, 1)(0, 1, 1, 12); setting score to inf (at least one inverse root too close to the border of the unit circle: 1.000)\n",
      "Fit ARIMA(0,0,0)x(0,1,0,12) [intercept=False]; AIC=578.371, BIC=580.132, Time=0.000 seconds\n",
      "Fit ARIMA(1,0,0)x(0,1,0,12) [intercept=True]; AIC=578.648, BIC=583.932, Time=0.062 seconds\n",
      "Fit ARIMA(1,0,0)x(2,1,0,12) [intercept=True]; AIC=554.964, BIC=563.770, Time=0.601 seconds\n",
      "Fit ARIMA(1,0,0)x(2,1,1,12) [intercept=True]; AIC=553.465, BIC=564.032, Time=1.095 seconds\n",
      "Near non-invertible roots for order (1, 0, 0)(2, 1, 1, 12); setting score to inf (at least one inverse root too close to the border of the unit circle: 1.000)\n",
      "Fit ARIMA(1,0,0)x(1,1,1,12) [intercept=True]; AIC=553.432, BIC=562.238, Time=0.310 seconds\n",
      "Near non-invertible roots for order (1, 0, 0)(1, 1, 1, 12); setting score to inf (at least one inverse root too close to the border of the unit circle: 0.999)\n",
      "Fit ARIMA(0,0,0)x(2,1,0,12) [intercept=True]; AIC=552.984, BIC=560.029, Time=0.433 seconds\n",
      "Fit ARIMA(0,0,0)x(1,1,0,12) [intercept=True]; AIC=561.402, BIC=566.686, Time=0.105 seconds\n",
      "Fit ARIMA(0,0,0)x(2,1,1,12) [intercept=True]; AIC=551.514, BIC=560.320, Time=0.938 seconds\n",
      "Near non-invertible roots for order (0, 0, 0)(2, 1, 1, 12); setting score to inf (at least one inverse root too close to the border of the unit circle: 1.000)\n",
      "Fit ARIMA(0,0,0)x(1,1,1,12) [intercept=True]; AIC=552.092, BIC=559.137, Time=0.644 seconds\n",
      "Near non-invertible roots for order (0, 0, 0)(1, 1, 1, 12); setting score to inf (at least one inverse root too close to the border of the unit circle: 0.999)\n",
      "Fit ARIMA(0,0,1)x(2,1,0,12) [intercept=True]; AIC=554.971, BIC=563.777, Time=0.548 seconds\n",
      "Fit ARIMA(1,0,1)x(2,1,0,12) [intercept=True]; AIC=556.187, BIC=566.754, Time=0.771 seconds\n",
      "Total fit time: 6.303 seconds\n"
     ]
    },
    {
     "data": {
      "text/html": [
       "<table class=\"simpletable\">\n",
       "<caption>SARIMAX Results</caption>\n",
       "<tr>\n",
       "  <th>Dep. Variable:</th>              <td>y</td>           <th>  No. Observations:  </th>    <td>55</td>   \n",
       "</tr>\n",
       "<tr>\n",
       "  <th>Model:</th>           <td>SARIMAX(2, 1, [1], 12)</td> <th>  Log Likelihood     </th> <td>-270.757</td>\n",
       "</tr>\n",
       "<tr>\n",
       "  <th>Date:</th>               <td>Fri, 24 Jul 2020</td>    <th>  AIC                </th>  <td>551.514</td>\n",
       "</tr>\n",
       "<tr>\n",
       "  <th>Time:</th>                   <td>12:35:04</td>        <th>  BIC                </th>  <td>560.320</td>\n",
       "</tr>\n",
       "<tr>\n",
       "  <th>Sample:</th>                     <td>0</td>           <th>  HQIC               </th>  <td>554.762</td>\n",
       "</tr>\n",
       "<tr>\n",
       "  <th></th>                          <td> - 55</td>         <th>                     </th>     <td> </td>   \n",
       "</tr>\n",
       "<tr>\n",
       "  <th>Covariance Type:</th>           <td>opg</td>          <th>                     </th>     <td> </td>   \n",
       "</tr>\n",
       "</table>\n",
       "<table class=\"simpletable\">\n",
       "<tr>\n",
       "      <td></td>         <th>coef</th>     <th>std err</th>      <th>z</th>      <th>P>|z|</th>  <th>[0.025</th>    <th>0.975]</th>  \n",
       "</tr>\n",
       "<tr>\n",
       "  <th>intercept</th> <td>   24.1965</td> <td>   24.335</td> <td>    0.994</td> <td> 0.320</td> <td>  -23.498</td> <td>   71.891</td>\n",
       "</tr>\n",
       "<tr>\n",
       "  <th>ar.S.L12</th>  <td>   -0.8684</td> <td>    0.672</td> <td>   -1.293</td> <td> 0.196</td> <td>   -2.185</td> <td>    0.448</td>\n",
       "</tr>\n",
       "<tr>\n",
       "  <th>ar.S.L24</th>  <td>   -0.3842</td> <td>    0.530</td> <td>   -0.725</td> <td> 0.468</td> <td>   -1.422</td> <td>    0.654</td>\n",
       "</tr>\n",
       "<tr>\n",
       "  <th>ma.S.L12</th>  <td>   -0.9946</td> <td>  198.086</td> <td>   -0.005</td> <td> 0.996</td> <td> -389.236</td> <td>  387.247</td>\n",
       "</tr>\n",
       "<tr>\n",
       "  <th>sigma2</th>    <td> 6619.3579</td> <td> 1.31e+06</td> <td>    0.005</td> <td> 0.996</td> <td>-2.55e+06</td> <td> 2.57e+06</td>\n",
       "</tr>\n",
       "</table>\n",
       "<table class=\"simpletable\">\n",
       "<tr>\n",
       "  <th>Ljung-Box (Q):</th>          <td>32.53</td> <th>  Jarque-Bera (JB):  </th> <td>0.68</td>\n",
       "</tr>\n",
       "<tr>\n",
       "  <th>Prob(Q):</th>                <td>0.79</td>  <th>  Prob(JB):          </th> <td>0.71</td>\n",
       "</tr>\n",
       "<tr>\n",
       "  <th>Heteroskedasticity (H):</th> <td>0.71</td>  <th>  Skew:              </th> <td>0.29</td>\n",
       "</tr>\n",
       "<tr>\n",
       "  <th>Prob(H) (two-sided):</th>    <td>0.53</td>  <th>  Kurtosis:          </th> <td>3.20</td>\n",
       "</tr>\n",
       "</table><br/><br/>Warnings:<br/>[1] Covariance matrix calculated using the outer product of gradients (complex-step)."
      ],
      "text/plain": [
       "<class 'statsmodels.iolib.summary.Summary'>\n",
       "\"\"\"\n",
       "                                 SARIMAX Results                                  \n",
       "==================================================================================\n",
       "Dep. Variable:                          y   No. Observations:                   55\n",
       "Model:             SARIMAX(2, 1, [1], 12)   Log Likelihood                -270.757\n",
       "Date:                    Fri, 24 Jul 2020   AIC                            551.514\n",
       "Time:                            12:35:04   BIC                            560.320\n",
       "Sample:                                 0   HQIC                           554.762\n",
       "                                     - 55                                         \n",
       "Covariance Type:                      opg                                         \n",
       "==============================================================================\n",
       "                 coef    std err          z      P>|z|      [0.025      0.975]\n",
       "------------------------------------------------------------------------------\n",
       "intercept     24.1965     24.335      0.994      0.320     -23.498      71.891\n",
       "ar.S.L12      -0.8684      0.672     -1.293      0.196      -2.185       0.448\n",
       "ar.S.L24      -0.3842      0.530     -0.725      0.468      -1.422       0.654\n",
       "ma.S.L12      -0.9946    198.086     -0.005      0.996    -389.236     387.247\n",
       "sigma2      6619.3579   1.31e+06      0.005      0.996   -2.55e+06    2.57e+06\n",
       "===================================================================================\n",
       "Ljung-Box (Q):                       32.53   Jarque-Bera (JB):                 0.68\n",
       "Prob(Q):                              0.79   Prob(JB):                         0.71\n",
       "Heteroskedasticity (H):               0.71   Skew:                             0.29\n",
       "Prob(H) (two-sided):                  0.53   Kurtosis:                         3.20\n",
       "===================================================================================\n",
       "\n",
       "Warnings:\n",
       "[1] Covariance matrix calculated using the outer product of gradients (complex-step).\n",
       "\"\"\""
      ]
     },
     "execution_count": 40,
     "metadata": {},
     "output_type": "execute_result"
    }
   ],
   "source": [
    "stepwise_fit = auto_arima(rainfall['OCT'], start_p = 1, start_q = 1, \n",
    "                          max_p = 3, max_q = 3, m = 12, \n",
    "                          start_P = 0, seasonal = True, \n",
    "                          d = None, D = 1, trace = True, \n",
    "                          error_action ='ignore', \n",
    "                          suppress_warnings = True, \n",
    "                          stepwise = True)\n",
    "stepwise_fit.summary()"
   ]
  },
  {
   "cell_type": "markdown",
   "metadata": {},
   "source": [
    "\n",
    "\n",
    "\n",
    "<i>\n",
    "    \n",
    "    \n",
    "    So we see that the optimal model is SARIMAX(2,1,1,12) which is 'Seasonal ARIMA with exogenous variables'.\n",
    "    Actually I don't know much about it :P But it is to be inferred that the seasonal_order parameter for the model is to be set as (2, 1, 1, 12)\n",
    "\n",
    "\n",
    "</i>"
   ]
  },
  {
   "cell_type": "code",
   "execution_count": 41,
   "metadata": {},
   "outputs": [
    {
     "name": "stderr",
     "output_type": "stream",
     "text": [
      "D:\\Anaconda\\lib\\site-packages\\statsmodels\\base\\model.py:568: ConvergenceWarning: Maximum Likelihood optimization failed to converge. Check mle_retvals\n",
      "  \"Check mle_retvals\", ConvergenceWarning)\n"
     ]
    },
    {
     "data": {
      "text/html": [
       "<table class=\"simpletable\">\n",
       "<caption>SARIMAX Results</caption>\n",
       "<tr>\n",
       "  <th>Dep. Variable:</th>                 <td>OCT</td>              <th>  No. Observations:  </th>    <td>55</td>   \n",
       "</tr>\n",
       "<tr>\n",
       "  <th>Model:</th>           <td>SARIMAX(0, 1, 1)x(2, 1, 1, 12)</td> <th>  Log Likelihood     </th> <td>-267.210</td>\n",
       "</tr>\n",
       "<tr>\n",
       "  <th>Date:</th>                   <td>Fri, 24 Jul 2020</td>        <th>  AIC                </th>  <td>544.419</td>\n",
       "</tr>\n",
       "<tr>\n",
       "  <th>Time:</th>                       <td>12:35:08</td>            <th>  BIC                </th>  <td>553.107</td>\n",
       "</tr>\n",
       "<tr>\n",
       "  <th>Sample:</th>                         <td>0</td>               <th>  HQIC               </th>  <td>547.604</td>\n",
       "</tr>\n",
       "<tr>\n",
       "  <th></th>                              <td> - 55</td>             <th>                     </th>     <td> </td>   \n",
       "</tr>\n",
       "<tr>\n",
       "  <th>Covariance Type:</th>               <td>opg</td>              <th>                     </th>     <td> </td>   \n",
       "</tr>\n",
       "</table>\n",
       "<table class=\"simpletable\">\n",
       "<tr>\n",
       "      <td></td>        <th>coef</th>     <th>std err</th>      <th>z</th>      <th>P>|z|</th>  <th>[0.025</th>    <th>0.975]</th>  \n",
       "</tr>\n",
       "<tr>\n",
       "  <th>ma.L1</th>    <td>   -0.7840</td> <td>    0.119</td> <td>   -6.595</td> <td> 0.000</td> <td>   -1.017</td> <td>   -0.551</td>\n",
       "</tr>\n",
       "<tr>\n",
       "  <th>ar.S.L12</th> <td>   -0.7628</td> <td>    0.255</td> <td>   -2.994</td> <td> 0.003</td> <td>   -1.262</td> <td>   -0.263</td>\n",
       "</tr>\n",
       "<tr>\n",
       "  <th>ar.S.L24</th> <td>   -0.3188</td> <td>    0.241</td> <td>   -1.321</td> <td> 0.186</td> <td>   -0.792</td> <td>    0.154</td>\n",
       "</tr>\n",
       "<tr>\n",
       "  <th>ma.S.L12</th> <td>   -0.9974</td> <td>    0.355</td> <td>   -2.812</td> <td> 0.005</td> <td>   -1.692</td> <td>   -0.302</td>\n",
       "</tr>\n",
       "<tr>\n",
       "  <th>sigma2</th>   <td> 7971.1303</td> <td> 4.47e-05</td> <td> 1.79e+08</td> <td> 0.000</td> <td> 7971.130</td> <td> 7971.130</td>\n",
       "</tr>\n",
       "</table>\n",
       "<table class=\"simpletable\">\n",
       "<tr>\n",
       "  <th>Ljung-Box (Q):</th>          <td>28.75</td> <th>  Jarque-Bera (JB):  </th> <td>0.50</td> \n",
       "</tr>\n",
       "<tr>\n",
       "  <th>Prob(Q):</th>                <td>0.91</td>  <th>  Prob(JB):          </th> <td>0.78</td> \n",
       "</tr>\n",
       "<tr>\n",
       "  <th>Heteroskedasticity (H):</th> <td>0.68</td>  <th>  Skew:              </th> <td>-0.26</td>\n",
       "</tr>\n",
       "<tr>\n",
       "  <th>Prob(H) (two-sided):</th>    <td>0.49</td>  <th>  Kurtosis:          </th> <td>2.85</td> \n",
       "</tr>\n",
       "</table><br/><br/>Warnings:<br/>[1] Covariance matrix calculated using the outer product of gradients (complex-step).<br/>[2] Covariance matrix is singular or near-singular, with condition number 8.15e+23. Standard errors may be unstable."
      ],
      "text/plain": [
       "<class 'statsmodels.iolib.summary.Summary'>\n",
       "\"\"\"\n",
       "                                     SARIMAX Results                                      \n",
       "==========================================================================================\n",
       "Dep. Variable:                                OCT   No. Observations:                   55\n",
       "Model:             SARIMAX(0, 1, 1)x(2, 1, 1, 12)   Log Likelihood                -267.210\n",
       "Date:                            Fri, 24 Jul 2020   AIC                            544.419\n",
       "Time:                                    12:35:08   BIC                            553.107\n",
       "Sample:                                         0   HQIC                           547.604\n",
       "                                             - 55                                         \n",
       "Covariance Type:                              opg                                         \n",
       "==============================================================================\n",
       "                 coef    std err          z      P>|z|      [0.025      0.975]\n",
       "------------------------------------------------------------------------------\n",
       "ma.L1         -0.7840      0.119     -6.595      0.000      -1.017      -0.551\n",
       "ar.S.L12      -0.7628      0.255     -2.994      0.003      -1.262      -0.263\n",
       "ar.S.L24      -0.3188      0.241     -1.321      0.186      -0.792       0.154\n",
       "ma.S.L12      -0.9974      0.355     -2.812      0.005      -1.692      -0.302\n",
       "sigma2      7971.1303   4.47e-05   1.79e+08      0.000    7971.130    7971.130\n",
       "===================================================================================\n",
       "Ljung-Box (Q):                       28.75   Jarque-Bera (JB):                 0.50\n",
       "Prob(Q):                              0.91   Prob(JB):                         0.78\n",
       "Heteroskedasticity (H):               0.68   Skew:                            -0.26\n",
       "Prob(H) (two-sided):                  0.49   Kurtosis:                         2.85\n",
       "===================================================================================\n",
       "\n",
       "Warnings:\n",
       "[1] Covariance matrix calculated using the outer product of gradients (complex-step).\n",
       "[2] Covariance matrix is singular or near-singular, with condition number 8.15e+23. Standard errors may be unstable.\n",
       "\"\"\""
      ]
     },
     "execution_count": 41,
     "metadata": {},
     "output_type": "execute_result"
    }
   ],
   "source": [
    "model = SARIMAX(rainfall['OCT'],  \n",
    "                order = (0, 1, 1),  \n",
    "                seasonal_order =(2, 1, 1, 12)) \n",
    "  \n",
    "result = model.fit() \n",
    "result.summary()"
   ]
  },
  {
   "cell_type": "markdown",
   "metadata": {},
   "source": [
    "<i>\n",
    "   \n",
    "    \n",
    "    Now that we have built the model we will forecast the rainfall for next 10 years.\n",
    "    I chose 10 as we can observe a general pattern in the weather for that period.\n",
    "    The weather tends to shift or change over a large period.\n",
    "</i>    "
   ]
  },
  {
   "cell_type": "code",
   "execution_count": 42,
   "metadata": {},
   "outputs": [
    {
     "name": "stderr",
     "output_type": "stream",
     "text": [
      "D:\\Anaconda\\lib\\site-packages\\statsmodels\\base\\model.py:568: ConvergenceWarning: Maximum Likelihood optimization failed to converge. Check mle_retvals\n",
      "  \"Check mle_retvals\", ConvergenceWarning)\n"
     ]
    },
    {
     "data": {
      "text/plain": [
       "<matplotlib.axes._subplots.AxesSubplot at 0x16deee613c8>"
      ]
     },
     "execution_count": 42,
     "metadata": {},
     "output_type": "execute_result"
    },
    {
     "data": {
      "image/png": "[encoded data removed]",
      "text/plain": [
       "<Figure size 864x360 with 1 Axes>"
      ]
     },
     "metadata": {
      "needs_background": "light"
     },
     "output_type": "display_data"
    }
   ],
   "source": [
    "model = SARIMAX(rainfall['OCT'],  \n",
    "                        order = (0, 1, 1),  \n",
    "                        seasonal_order =(2, 1, 1, 12)) \n",
    "result = model.fit() \n",
    "  \n",
    "# Forecast for the next 3 years \n",
    "forecast = result.predict(start = len(rainfall),  \n",
    "                          end = (len(rainfall)-1) + 10,  \n",
    "                          typ = 'levels').rename('Forecast') \n",
    "  \n",
    "# Plot the forecast values \n",
    "rainfall['OCT'].plot(figsize = (12, 5), legend = True) \n",
    "forecast.plot(legend = True) "
   ]
  },
  {
   "cell_type": "markdown",
   "metadata": {},
   "source": [
    "<i>\n",
    "    \n",
    "    \n",
    "    So we see that our model has captured the general characterictics of rainfall received.\n",
    "    Howerver, the standard deviation in our prediction is quite smaller than the one observed in the past data.\n",
    "    This can be resolved by tuning the parameters of the model. But again, I don't know much about this model so this is the best I can present for now.\n",
    "</i>"
   ]
  },
  {
   "cell_type": "code",
   "execution_count": 43,
   "metadata": {},
   "outputs": [
    {
     "data": {
      "text/plain": [
       "55    287.755176\n",
       "56    247.429504\n",
       "57    239.456237\n",
       "58    266.262351\n",
       "59    116.034077\n",
       "60    278.704826\n",
       "61    305.616209\n",
       "62    242.375866\n",
       "63    192.956883\n",
       "64    445.973188\n",
       "Name: Forecast, dtype: float64"
      ]
     },
     "execution_count": 43,
     "metadata": {},
     "output_type": "execute_result"
    }
   ],
   "source": [
    "forecast"
   ]
  },
  {
   "cell_type": "markdown",
   "metadata": {},
   "source": [
    "<h3>The Model, Formally</h3>"
   ]
  },
  {
   "cell_type": "code",
   "execution_count": 44,
   "metadata": {},
   "outputs": [],
   "source": [
    "#Helper function\n",
    "\n",
    "def getMonth(monthInt):\n",
    "    Months = {1: 'JAN', 2: 'FEB', 3: 'MAR', 4: 'APR', 5: 'MAY', 6: 'JUN', 7: 'JUL', 8: 'AUG', 9: 'SEP', 10: 'OCT', 11: 'NOV', 12: 'DEC'}\n",
    "    return Months[monthInt]\n"
   ]
  },
  {
   "cell_type": "code",
   "execution_count": 45,
   "metadata": {},
   "outputs": [],
   "source": [
    "def getForecast(monthInt):\n",
    "    month = getMonth(monthInt)\n",
    "    model = SARIMAX(rainfall[month],  \n",
    "                order = (0, 1, 1),  \n",
    "                seasonal_order =(2, 1, 1, 12)) \n",
    "  \n",
    "    result = model.fit() \n",
    "    result.summary()\n",
    "    \n",
    "    \n",
    "    model = SARIMAX(rainfall[month],  \n",
    "                        order = (0, 1, 1),  \n",
    "                        seasonal_order =(2, 1, 1, 12)) \n",
    "    result = model.fit() \n",
    "  \n",
    "    # Forecast for the next 12 years \n",
    "    forecast = result.predict(start = len(rainfall),  \n",
    "                          end = (len(rainfall)-1) + 3 * 12,  \n",
    "                          typ = 'levels').rename('Forecast') \n",
    "  \n",
    "    # Plot the forecast values \n",
    "    rainfall[month].plot(figsize = (12, 5), legend = True) \n",
    "    forecast.plot(legend = True)\n",
    "    return forecast"
   ]
  },
  {
   "cell_type": "code",
   "execution_count": 54,
   "metadata": {},
   "outputs": [],
   "source": [
    "def predict(monthInt, inputRain):\n",
    "    forecast = getForecast(monthInt)\n",
    "    meanForecast = forecast.mean()\n",
    "    std = forecast.std()\n",
    "    threshold1 = meanForecast + std\n",
    "    threshold2 = forecast.iloc[0] + (0.8 * std)\n",
    "    threshold3 = forecast.iloc[0] + std\n",
    "    if (inputRain > threshold1 and inputRain > threshold2):\n",
    "        print(\"\\n %2d : Flood is likely to occur\" % (2))\n",
    "    elif (inputRain > threshold1 or inputRain > threshold3):\n",
    "        print(\"\\n %2d : There are chances of flood\" % (1))\n",
    "    else:\n",
    "        print(\"\\n %2d : Flood is unlikely to occur\" % (0))\n",
    "        "
   ]
  },
  {
   "cell_type": "code",
   "execution_count": 62,
   "metadata": {},
   "outputs": [
    {
     "name": "stdout",
     "output_type": "stream",
     "text": [
      "Enter month number: 12\n",
      "Enter rainfall amount: 415\n"
     ]
    },
    {
     "name": "stderr",
     "output_type": "stream",
     "text": [
      "D:\\Anaconda\\lib\\site-packages\\statsmodels\\base\\model.py:568: ConvergenceWarning: Maximum Likelihood optimization failed to converge. Check mle_retvals\n",
      "  \"Check mle_retvals\", ConvergenceWarning)\n",
      "D:\\Anaconda\\lib\\site-packages\\statsmodels\\base\\model.py:568: ConvergenceWarning: Maximum Likelihood optimization failed to converge. Check mle_retvals\n",
      "  \"Check mle_retvals\", ConvergenceWarning)\n"
     ]
    },
    {
     "name": "stdout",
     "output_type": "stream",
     "text": [
      "\n",
      "  2 : Flood is likely to occur\n"
     ]
    },
    {
     "data": {
      "image/png": "[encoded data removed]",
      "text/plain": [
       "<Figure size 864x360 with 1 Axes>"
      ]
     },
     "metadata": {
      "needs_background": "light"
     },
     "output_type": "display_data"
    }
   ],
   "source": [
    "# Driver Code\n",
    "month = int(input('Enter month number: '))\n",
    "rain = int(input('Enter rainfall amount: '))\n",
    "predict(month, rain)"
   ]
  },
  {
   "cell_type": "code",
   "execution_count": null,
   "metadata": {},
   "outputs": [],
   "source": []
  }
 ],
 "metadata": {
  "kernelspec": {
   "display_name": "Python 3",
   "language": "python",
   "name": "python3"
  },
  "language_info": {
   "codemirror_mode": {
    "name": "ipython",
    "version": 3
   },
   "file_extension": ".py",
   "mimetype": "text/x-python",
   "name": "python",
   "nbconvert_exporter": "python",
   "pygments_lexer": "ipython3",
   "version": "3.7.6"
  }
 },
 "nbformat": 4,
 "nbformat_minor": 4
}
